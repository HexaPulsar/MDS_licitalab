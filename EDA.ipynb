{
 "cells": [
  {
   "cell_type": "code",
   "execution_count": 18,
   "metadata": {},
   "outputs": [],
   "source": [
    "import logging\n",
    "from sqlalchemy.engine import URL\n",
    "from sqlalchemy.sql import text\n",
    "import coloredlogs\n",
    "from sqlalchemy import create_engine\n",
    "from dotenv import load_dotenv\n",
    "import os"
   ]
  },
  {
   "cell_type": "code",
   "execution_count": 19,
   "metadata": {},
   "outputs": [
    {
     "data": {
      "text/plain": [
       "True"
      ]
     },
     "execution_count": 19,
     "metadata": {},
     "output_type": "execute_result"
    }
   ],
   "source": [
    "load_dotenv()"
   ]
  },
  {
   "cell_type": "code",
   "execution_count": 20,
   "metadata": {},
   "outputs": [],
   "source": [
    "url_object = URL.create(\n",
    "    \"postgresql\",\n",
    "    username=os.getenv('USER'),\n",
    "    password=os.getenv('PASS'),  # plain (unescaped) text\n",
    "    host=os.getenv('HOST'),\n",
    "    database=os.getenv('SCHEMA'),\n",
    ")"
   ]
  },
  {
   "cell_type": "code",
   "execution_count": 21,
   "metadata": {},
   "outputs": [],
   "source": [
    "#crear engine\n",
    "engine = create_engine(url_object)"
   ]
  },
  {
   "cell_type": "code",
   "execution_count": 22,
   "metadata": {},
   "outputs": [],
   "source": [
    "\n",
    "def query(postgresql_query):\n",
    "    assert type(postgresql_query) == str\n",
    "    #conectarse\n",
    "    conn = engine.connect() \n",
    "    my_query = text(postgresql_query)\n",
    "    resultSet = conn.execute(my_query).fetchall()\n",
    "    #cerrar conexion\n",
    "    conn.close()\n",
    "    return resultSet"
   ]
  },
  {
   "cell_type": "code",
   "execution_count": 23,
   "metadata": {},
   "outputs": [
    {
     "data": {
      "text/plain": [
       "[('948356-18-COT21', 'MEDICAMENTO LEVOBUPIVACAINA', 'Publicada', 'EL HOSPITAL DIPRECA REQUIERE COMPRAR PARA EL SERVICIO DE FARMACIA CENTRAL, MEDICAMENTO LEVOBUPIVACAINA , ESENCIAL PARA EL TRATAMIENTO ADECUADO DE LOS PACIENTES.', 'Av. Vital Apoquindo 1200, Las Condes, en la Sección de Almacenamiento y Distribución del Hospital., Las Condes. Región Metropolitana de Santiago', datetime.datetime(2021, 4, 9, 8, 6, 29, tzinfo=datetime.timezone.utc), datetime.datetime(2021, 4, 14, 10, 0, tzinfo=datetime.timezone.utc), '2 Días', '$', 1.5, 'Felipe Sanchez', '+56 2 9517 140', 'felipe.sanchez@hospitaldipreca.cl', '61.513.003-6', datetime.datetime(2021, 4, 9, 12, 21, 17, 428000, tzinfo=datetime.timezone.utc), datetime.datetime(2021, 4, 9, 12, 21, 17, 428000, tzinfo=datetime.timezone.utc), '', None, None, None, 'No disponible', '', '')]"
      ]
     },
     "execution_count": 23,
     "metadata": {},
     "output_type": "execute_result"
    }
   ],
   "source": [
    "query('SELECT * FROM \"AgileBuyings\" LIMIT 1')"
   ]
  }
 ],
 "metadata": {
  "kernelspec": {
   "display_name": "venv",
   "language": "python",
   "name": "python3"
  },
  "language_info": {
   "codemirror_mode": {
    "name": "ipython",
    "version": 3
   },
   "file_extension": ".py",
   "mimetype": "text/x-python",
   "name": "python",
   "nbconvert_exporter": "python",
   "pygments_lexer": "ipython3",
   "version": "3.10.5"
  },
  "orig_nbformat": 4
 },
 "nbformat": 4,
 "nbformat_minor": 2
}
