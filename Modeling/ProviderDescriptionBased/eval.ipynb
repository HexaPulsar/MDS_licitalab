{
 "cells": [
  {
   "cell_type": "markdown",
   "metadata": {},
   "source": [
    "# EVAL\n"
   ]
  },
  {
   "cell_type": "code",
   "execution_count": 106,
   "metadata": {},
   "outputs": [],
   "source": [
    "import plotly.express as px\n",
    "import pandas as pd\n",
    "import yaml\n",
    "from unidecode import unidecode \n",
    "from modeling_utils.modeling_utils import * \n",
    "import pandas as pd\n",
    "import pickle\n",
    "import os"
   ]
  },
  {
   "cell_type": "code",
   "execution_count": 107,
   "metadata": {},
   "outputs": [
    {
     "name": "stdout",
     "output_type": "stream",
     "text": [
      "c:\\Users\\magda\\OneDrive\\Escritorio\\MDS_licitalab\\Modeling\\ProviderDescriptionBased\\csv\\vectorized_corpus.csv\n"
     ]
    }
   ],
   "source": [
    "file_path_yaml = os.path.join(os.getcwd(), \n",
    "                        'config',\n",
    "                        'config.yaml')\n",
    "\n",
    "with open(file_path_yaml, 'r') as file:\n",
    "        yaml_data = yaml.load(file, Loader=yaml.FullLoader)\n",
    "\n",
    "DEBUG = False\n",
    "\n",
    "# Incorporate data\n",
    "df = pd.read_csv(yaml_data['PATH_TO_CSV'],\n",
    "                encoding=\"utf-8\" , \n",
    "                nrows=yaml_data['N_ROWS'])   \n",
    "\n",
    "file_path_vectorized_c = os.path.join(os.getcwd(), \n",
    "                                        'csv',\n",
    "                                        'vectorized_corpus.csv')\n",
    "print(file_path_vectorized_c)\n",
    "\n",
    "file_path_kmeans = os.path.join(os.getcwd(), \n",
    "                        'csv',\n",
    "                        'kmeans_clusters.csv')\n",
    "\n",
    "vectorized_corpus =pd.read_csv(file_path_vectorized_c)\n",
    "kmeans_clusters = pd.read_csv(file_path_kmeans)\n",
    "\n",
    "\n",
    "df['first_two_digits_code'] = df['agileitemsmp_id'].apply(lambda x: str(x)[:2])\n",
    "df['feature_vector']=  df['first_two_digits_code'] + ' '+ df['agileoffereditemsdescripcionofertada']\n",
    "corpus = df['feature_vector'].apply(lambda x: unidecode(x).lower())\n",
    "\n",
    "file_path_vectorizer = os.path.join(os.getcwd(), \n",
    "                                'models',\n",
    "                                'count_vectorized_model.pkl')\n",
    "\n",
    "with open(file_path_vectorizer, 'rb') as model_file:\n",
    "    vectorizer = pickle.load(model_file)\n"
   ]
  },
  {
   "cell_type": "code",
   "execution_count": 108,
   "metadata": {},
   "outputs": [
    {
     "name": "stdout",
     "output_type": "stream",
     "text": [
      "Unseen data point belongs to cluster 23\n",
      "Unseen data point belongs to cluster 23\n"
     ]
    }
   ],
   "source": [
    "rut = \"76.233.924-2\"\n",
    "user = str(rut)\n",
    "example_user_df = df.query(f'taxnumberprovider == \"{user}\"') # and adjudicada == True' ) #no es necesario que la licitacion este adjudicada, pero aquí probamos con licitaciones adjudicadas\n",
    "\n",
    "if yaml_data['USE_AWARDED']:\n",
    "    example_user_df = example_user_df.query(f'adjudicada == True' )\n",
    "\n",
    "cluster_number = predict_user_item_cluster(example_user_df,\n",
    "                                        vectorizer,\n",
    "                                        vectorized_corpus,\n",
    "                                        yaml_data['ITEMS_TO_CONSIDER'],\n",
    "                                        kmeans_clusters)\n",
    "#matching \n",
    "gg = match_cluster_data_with_agilebuy(_user_df = example_user_df,\n",
    "                                    _df = df,\n",
    "                                    _vectorizer = vectorizer,\n",
    "                                    _vectorized_data= vectorized_corpus,\n",
    "                                    _items_to_consider=yaml_data['ITEMS_TO_CONSIDER'],\n",
    "                                    _cluster_method=kmeans_clusters)\n"
   ]
  },
  {
   "cell_type": "code",
   "execution_count": 124,
   "metadata": {},
   "outputs": [
    {
     "data": {
      "text/html": [
       "<div>\n",
       "<style scoped>\n",
       "    .dataframe tbody tr th:only-of-type {\n",
       "        vertical-align: middle;\n",
       "    }\n",
       "\n",
       "    .dataframe tbody tr th {\n",
       "        vertical-align: top;\n",
       "    }\n",
       "\n",
       "    .dataframe thead th {\n",
       "        text-align: right;\n",
       "    }\n",
       "</style>\n",
       "<table border=\"1\" class=\"dataframe\">\n",
       "  <thead>\n",
       "    <tr style=\"text-align: right;\">\n",
       "      <th></th>\n",
       "      <th>agilebuyingsdescription</th>\n",
       "      <th>agileitemsproductcategory</th>\n",
       "    </tr>\n",
       "  </thead>\n",
       "  <tbody>\n",
       "    <tr>\n",
       "      <th>0</th>\n",
       "      <td>SOLICITUD 6 DELEGACIONN AVDA DEL MAR, SE REQUI...</td>\n",
       "      <td>Maquinarias, equipos y suministros para la ind...</td>\n",
       "    </tr>\n",
       "  </tbody>\n",
       "</table>\n",
       "</div>"
      ],
      "text/plain": [
       "                             agilebuyingsdescription  \\\n",
       "0  SOLICITUD 6 DELEGACIONN AVDA DEL MAR, SE REQUI...   \n",
       "\n",
       "                           agileitemsproductcategory  \n",
       "0  Maquinarias, equipos y suministros para la ind...  "
      ]
     },
     "metadata": {},
     "output_type": "display_data"
    }
   ],
   "source": [
    "exploration_query = gg.query(f\"Cluster == {cluster_number} and taxnumberprovider == '{user}'\") \n",
    "save = exploration_query.groupby(by = 'first_two_digits_code').count()['agileitemsproductcategory'].reset_index()\n",
    "    \n",
    "fig = px.bar(save, x='first_two_digits_code', y='agileitemsproductcategory', title='Categorías Presentes')\n",
    "data = exploration_query.groupby(by=['agilebuyingsdescription','agileitemsproductcategory']).count().reset_index()\n",
    "data = data[['agilebuyingsdescription','agileitemsproductcategory']]\n",
    "display(data)\n",
    "#display(data['agilebuyingsdescription','agileitemsproductcategory'])\n",
    "\n",
    "#columns = [{'name': col, 'id': col} for col in data.columns]\n",
    "#data = data.to_dict('records')"
   ]
  },
  {
   "cell_type": "code",
   "execution_count": 104,
   "metadata": {},
   "outputs": [
    {
     "data": {
      "text/html": [
       "<div>\n",
       "<style scoped>\n",
       "    .dataframe tbody tr th:only-of-type {\n",
       "        vertical-align: middle;\n",
       "    }\n",
       "\n",
       "    .dataframe tbody tr th {\n",
       "        vertical-align: top;\n",
       "    }\n",
       "\n",
       "    .dataframe thead th {\n",
       "        text-align: right;\n",
       "    }\n",
       "</style>\n",
       "<table border=\"1\" class=\"dataframe\">\n",
       "  <thead>\n",
       "    <tr style=\"text-align: right;\">\n",
       "      <th></th>\n",
       "      <th>organismosolicitante</th>\n",
       "      <th>agilebuyingscode</th>\n",
       "      <th>agilebuyingsstatus</th>\n",
       "      <th>agilebuyingscurrency</th>\n",
       "      <th>agilebuyingsavailableamount</th>\n",
       "      <th>agileitemsname</th>\n",
       "      <th>agileitemsmp_id</th>\n",
       "      <th>agileitemsproductcategory</th>\n",
       "      <th>agileoffereditemsproductoofertado</th>\n",
       "      <th>agileoffereditemscategoriaofertada</th>\n",
       "      <th>agileoffereditemsdescripcionofertada</th>\n",
       "      <th>agileoffereditemspreciototal</th>\n",
       "      <th>taxnumberprovider</th>\n",
       "      <th>provideractivity</th>\n",
       "      <th>adjudicada</th>\n",
       "      <th>first_two_digits_code</th>\n",
       "      <th>feature_vector</th>\n",
       "      <th>Cluster</th>\n",
       "    </tr>\n",
       "    <tr>\n",
       "      <th>agilebuyingsdescription</th>\n",
       "      <th></th>\n",
       "      <th></th>\n",
       "      <th></th>\n",
       "      <th></th>\n",
       "      <th></th>\n",
       "      <th></th>\n",
       "      <th></th>\n",
       "      <th></th>\n",
       "      <th></th>\n",
       "      <th></th>\n",
       "      <th></th>\n",
       "      <th></th>\n",
       "      <th></th>\n",
       "      <th></th>\n",
       "      <th></th>\n",
       "      <th></th>\n",
       "      <th></th>\n",
       "      <th></th>\n",
       "    </tr>\n",
       "  </thead>\n",
       "  <tbody>\n",
       "    <tr>\n",
       "      <th>SOLICITUD 6 DELEGACIONN AVDA DEL MAR, SE REQUIERE CONTRATAR SERVIO DE COCTEL ,PARA CEREMONIA FINALIZACION TEMPORADA ESTIVAL,CUERPO DE RESCATE ,EVENTO QUE CONTARA CON LA PRESENCIA DE LA AUTORIDAD COMUNAL, CONCEJALES Y CAPITANIA DE PUERTO, SE ADJUNTA FICHA CON DESCRIPCIÓN DEL SERVICIO.</th>\n",
       "      <td>16</td>\n",
       "      <td>16</td>\n",
       "      <td>16</td>\n",
       "      <td>16</td>\n",
       "      <td>16</td>\n",
       "      <td>16</td>\n",
       "      <td>16</td>\n",
       "      <td>16</td>\n",
       "      <td>16</td>\n",
       "      <td>16</td>\n",
       "      <td>16</td>\n",
       "      <td>16</td>\n",
       "      <td>16</td>\n",
       "      <td>16</td>\n",
       "      <td>16</td>\n",
       "      <td>16</td>\n",
       "      <td>16</td>\n",
       "      <td>16</td>\n",
       "    </tr>\n",
       "  </tbody>\n",
       "</table>\n",
       "</div>"
      ],
      "text/plain": [
       "                                                    organismosolicitante  \\\n",
       "agilebuyingsdescription                                                    \n",
       "SOLICITUD 6 DELEGACIONN AVDA DEL MAR, SE REQUIE...                    16   \n",
       "\n",
       "                                                    agilebuyingscode  \\\n",
       "agilebuyingsdescription                                                \n",
       "SOLICITUD 6 DELEGACIONN AVDA DEL MAR, SE REQUIE...                16   \n",
       "\n",
       "                                                    agilebuyingsstatus  \\\n",
       "agilebuyingsdescription                                                  \n",
       "SOLICITUD 6 DELEGACIONN AVDA DEL MAR, SE REQUIE...                  16   \n",
       "\n",
       "                                                    agilebuyingscurrency  \\\n",
       "agilebuyingsdescription                                                    \n",
       "SOLICITUD 6 DELEGACIONN AVDA DEL MAR, SE REQUIE...                    16   \n",
       "\n",
       "                                                    agilebuyingsavailableamount  \\\n",
       "agilebuyingsdescription                                                           \n",
       "SOLICITUD 6 DELEGACIONN AVDA DEL MAR, SE REQUIE...                           16   \n",
       "\n",
       "                                                    agileitemsname  \\\n",
       "agilebuyingsdescription                                              \n",
       "SOLICITUD 6 DELEGACIONN AVDA DEL MAR, SE REQUIE...              16   \n",
       "\n",
       "                                                    agileitemsmp_id  \\\n",
       "agilebuyingsdescription                                               \n",
       "SOLICITUD 6 DELEGACIONN AVDA DEL MAR, SE REQUIE...               16   \n",
       "\n",
       "                                                    agileitemsproductcategory  \\\n",
       "agilebuyingsdescription                                                         \n",
       "SOLICITUD 6 DELEGACIONN AVDA DEL MAR, SE REQUIE...                         16   \n",
       "\n",
       "                                                    agileoffereditemsproductoofertado  \\\n",
       "agilebuyingsdescription                                                                 \n",
       "SOLICITUD 6 DELEGACIONN AVDA DEL MAR, SE REQUIE...                                 16   \n",
       "\n",
       "                                                    agileoffereditemscategoriaofertada  \\\n",
       "agilebuyingsdescription                                                                  \n",
       "SOLICITUD 6 DELEGACIONN AVDA DEL MAR, SE REQUIE...                                  16   \n",
       "\n",
       "                                                    agileoffereditemsdescripcionofertada  \\\n",
       "agilebuyingsdescription                                                                    \n",
       "SOLICITUD 6 DELEGACIONN AVDA DEL MAR, SE REQUIE...                                    16   \n",
       "\n",
       "                                                    agileoffereditemspreciototal  \\\n",
       "agilebuyingsdescription                                                            \n",
       "SOLICITUD 6 DELEGACIONN AVDA DEL MAR, SE REQUIE...                            16   \n",
       "\n",
       "                                                    taxnumberprovider  \\\n",
       "agilebuyingsdescription                                                 \n",
       "SOLICITUD 6 DELEGACIONN AVDA DEL MAR, SE REQUIE...                 16   \n",
       "\n",
       "                                                    provideractivity  \\\n",
       "agilebuyingsdescription                                                \n",
       "SOLICITUD 6 DELEGACIONN AVDA DEL MAR, SE REQUIE...                16   \n",
       "\n",
       "                                                    adjudicada  \\\n",
       "agilebuyingsdescription                                          \n",
       "SOLICITUD 6 DELEGACIONN AVDA DEL MAR, SE REQUIE...          16   \n",
       "\n",
       "                                                    first_two_digits_code  \\\n",
       "agilebuyingsdescription                                                     \n",
       "SOLICITUD 6 DELEGACIONN AVDA DEL MAR, SE REQUIE...                     16   \n",
       "\n",
       "                                                    feature_vector  Cluster  \n",
       "agilebuyingsdescription                                                      \n",
       "SOLICITUD 6 DELEGACIONN AVDA DEL MAR, SE REQUIE...              16       16  "
      ]
     },
     "metadata": {},
     "output_type": "display_data"
    }
   ],
   "source": [
    "display(exploration_query.groupby('agilebuyingsdescription'))"
   ]
  },
  {
   "cell_type": "markdown",
   "metadata": {},
   "source": []
  },
  {
   "cell_type": "code",
   "execution_count": 92,
   "metadata": {},
   "outputs": [],
   "source": [
    "gg = exploration_query"
   ]
  },
  {
   "cell_type": "code",
   "execution_count": 44,
   "metadata": {},
   "outputs": [],
   "source": [
    "def to_num(bool):\n",
    "    if bool == False:\n",
    "        return 0\n",
    "    else:\n",
    "        return 1"
   ]
  },
  {
   "cell_type": "code",
   "execution_count": 93,
   "metadata": {},
   "outputs": [],
   "source": [
    "gg['adjudicada'] = gg['adjudicada'].apply(lambda x: to_num(x))"
   ]
  },
  {
   "cell_type": "code",
   "execution_count": 94,
   "metadata": {},
   "outputs": [
    {
     "data": {
      "text/html": [
       "<div>\n",
       "<style scoped>\n",
       "    .dataframe tbody tr th:only-of-type {\n",
       "        vertical-align: middle;\n",
       "    }\n",
       "\n",
       "    .dataframe tbody tr th {\n",
       "        vertical-align: top;\n",
       "    }\n",
       "\n",
       "    .dataframe thead th {\n",
       "        text-align: right;\n",
       "    }\n",
       "</style>\n",
       "<table border=\"1\" class=\"dataframe\">\n",
       "  <thead>\n",
       "    <tr style=\"text-align: right;\">\n",
       "      <th></th>\n",
       "      <th></th>\n",
       "      <th>adjudicada</th>\n",
       "    </tr>\n",
       "    <tr>\n",
       "      <th>taxnumberprovider</th>\n",
       "      <th>adjudicada</th>\n",
       "      <th></th>\n",
       "    </tr>\n",
       "  </thead>\n",
       "  <tbody>\n",
       "    <tr>\n",
       "      <th>76.175.712-1</th>\n",
       "      <th>0</th>\n",
       "      <td>0.0</td>\n",
       "    </tr>\n",
       "    <tr>\n",
       "      <th>76.233.924-2</th>\n",
       "      <th>1</th>\n",
       "      <td>1.0</td>\n",
       "    </tr>\n",
       "    <tr>\n",
       "      <th>76.370.508-0</th>\n",
       "      <th>1</th>\n",
       "      <td>1.0</td>\n",
       "    </tr>\n",
       "    <tr>\n",
       "      <th>76.623.919-6</th>\n",
       "      <th>0</th>\n",
       "      <td>0.0</td>\n",
       "    </tr>\n",
       "  </tbody>\n",
       "</table>\n",
       "</div>"
      ],
      "text/plain": [
       "                              adjudicada\n",
       "taxnumberprovider adjudicada            \n",
       "76.175.712-1      0                  0.0\n",
       "76.233.924-2      1                  1.0\n",
       "76.370.508-0      1                  1.0\n",
       "76.623.919-6      0                  0.0"
      ]
     },
     "metadata": {},
     "output_type": "display_data"
    }
   ],
   "source": [
    "grouped = gg.groupby(by =['taxnumberprovider','adjudicada']).agg({'adjudicada': 'mean'})\n",
    "#grouped = grouped.assign(self_val=gg.groupby(by=['taxnumberprovider','adjudicada']).agg({'adjudicada':'mean'}))\n",
    "display(grouped)"
   ]
  },
  {
   "cell_type": "code",
   "execution_count": null,
   "metadata": {},
   "outputs": [],
   "source": [
    "\n"
   ]
  }
 ],
 "metadata": {
  "kernelspec": {
   "display_name": "venv",
   "language": "python",
   "name": "python3"
  },
  "language_info": {
   "codemirror_mode": {
    "name": "ipython",
    "version": 3
   },
   "file_extension": ".py",
   "mimetype": "text/x-python",
   "name": "python",
   "nbconvert_exporter": "python",
   "pygments_lexer": "ipython3",
   "version": "3.10.5"
  }
 },
 "nbformat": 4,
 "nbformat_minor": 2
}
