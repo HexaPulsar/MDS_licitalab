{
 "cells": [
  {
   "cell_type": "markdown",
   "metadata": {},
   "source": [
    "# EVAL\n"
   ]
  },
  {
   "cell_type": "code",
   "execution_count": null,
   "metadata": {},
   "outputs": [],
   "source": []
  },
  {
   "cell_type": "markdown",
   "metadata": {},
   "source": [
    "import plotly.express as px\n",
    "import pandas as pd\n",
    "import yaml\n",
    "from unidecode import unidecode  \n",
    "from modeling_utils.modeling_utils import *\n",
    "import pandas as pd\n",
    "import pickle\n",
    "import os"
   ]
  },
  {
   "cell_type": "code",
   "execution_count": 59,
   "metadata": {},
   "outputs": [
    {
     "name": "stdout",
     "output_type": "stream",
     "text": [
      "c:\\Proyectos Git\\Universidad\\licitalabclon\\MDS_licitalab\\Modeling\\ProviderDescriptionBased\\csv\\vectorized_corpus.csv\n"
     ]
    }
   ],
   "source": [
    "file_path_yaml = os.path.join(os.getcwd(), \n",
    "                        'config',\n",
    "                        'config.yaml')\n",
    "\n",
    "with open(file_path_yaml, 'r') as file:\n",
    "        yaml_data = yaml.load(file, Loader=yaml.FullLoader)\n",
    "\n",
    "DEBUG = False\n",
    "\n",
    "# Incorporate data\n",
    "df = pd.read_csv(yaml_data['PATH_TO_CSV'],\n",
    "                encoding=\"utf-8\" , \n",
    "                nrows=yaml_data['N_ROWS'])   \n",
    "\n",
    "file_path_vectorized_c = os.path.join(os.getcwd(), \n",
    "                                        'csv',\n",
    "                                        'vectorized_corpus.csv')\n",
    "print(file_path_vectorized_c)\n",
    "\n",
    "file_path_kmeans = os.path.join(os.getcwd(), \n",
    "                        'csv',\n",
    "                        'kmeans_clusters.csv')\n",
    "\n",
    "vectorized_corpus =pd.read_csv(file_path_vectorized_c)\n",
    "kmeans_clusters = pd.read_csv(file_path_kmeans)\n",
    "\n",
    "\n",
    "df['first_two_digits_code'] = df['agileitemsmp_id'].apply(lambda x: str(x)[:2])\n",
    "df['feature_vector']=  df['first_two_digits_code'] + ' '+ df['agileoffereditemsdescripcionofertada']\n",
    "corpus = df['feature_vector'].apply(lambda x: unidecode(x).lower())\n",
    "\n",
    "file_path_vectorizer = os.path.join(os.getcwd(), \n",
    "                                'models',\n",
    "                                'count_vectorized_model.pkl')\n",
    "\n",
    "with open(file_path_vectorizer, 'rb') as model_file:\n",
    "    vectorizer = pickle.load(model_file)\n"
   ]
  },
  {
   "cell_type": "code",
   "execution_count": 76,
   "metadata": {},
   "outputs": [
    {
     "ename": "TypeError",
     "evalue": "'CountVectorizer' object is not callable",
     "output_type": "error",
     "traceback": [
      "\u001b[1;31m---------------------------------------------------------------------------\u001b[0m",
      "\u001b[1;31mTypeError\u001b[0m                                 Traceback (most recent call last)",
      "\u001b[1;32mc:\\Proyectos Git\\Universidad\\licitalabclon\\MDS_licitalab\\Modeling\\ProviderDescriptionBased\\eval.ipynb Cell 4\u001b[0m line \u001b[0;36m1\n\u001b[1;32m----> <a href='vscode-notebook-cell:/c%3A/Proyectos%20Git/Universidad/licitalabclon/MDS_licitalab/Modeling/ProviderDescriptionBased/eval.ipynb#X11sZmlsZQ%3D%3D?line=0'>1</a>\u001b[0m vectorizer()\n",
      "\u001b[1;31mTypeError\u001b[0m: 'CountVectorizer' object is not callable"
     ]
    }
   ],
   "source": []
  },
  {
   "cell_type": "code",
   "execution_count": 67,
   "metadata": {},
   "outputs": [
    {
     "name": "stdout",
     "output_type": "stream",
     "text": [
      "77.229.656-8\n"
     ]
    }
   ],
   "source": [
    "rut = df['taxnumberprovider'].sample(n = 1).values\n",
    " \n",
    "user = str(rut[0])\n",
    "print(user)"
   ]
  },
  {
   "cell_type": "code",
   "execution_count": 68,
   "metadata": {},
   "outputs": [
    {
     "name": "stdout",
     "output_type": "stream",
     "text": [
      "Unseen data point belongs to cluster 10\n",
      "Unseen data point belongs to cluster 10\n"
     ]
    }
   ],
   "source": [
    "\n",
    "example_user_df = df.query(f'taxnumberprovider == \"{user}\"') # and adjudicada == True' ) #no es necesario que la licitacion este adjudicada, pero aquí probamos con licitaciones adjudicadas\n",
    "\n",
    "if yaml_data['USE_AWARDED']:\n",
    "    example_user_df = example_user_df.query(f'adjudicada == True' )\n",
    "\n",
    "cluster_number = predict_user_item_cluster(example_user_df,\n",
    "                                        vectorizer,\n",
    "                                        vectorized_corpus,\n",
    "                                        yaml_data['ITEMS_TO_CONSIDER'],\n",
    "                                        kmeans_clusters)\n",
    "#matching \n",
    "gg = match_cluster_data_with_agilebuy(_user_df = example_user_df,\n",
    "                                    _df = df,\n",
    "                                    _vectorizer = vectorizer,\n",
    "                                    _vectorized_data= vectorized_corpus,\n",
    "                                    _items_to_consider=yaml_data['ITEMS_TO_CONSIDER'],\n",
    "                                    _cluster_method=kmeans_clusters)\n"
   ]
  },
  {
   "cell_type": "code",
   "execution_count": 69,
   "metadata": {},
   "outputs": [
    {
     "data": {
      "text/plain": [
       "{'DEBUG': True,\n",
       " 'PATH_TO_CSV': 'C:\\\\Proyectos Git\\\\Universidad\\\\licitalabclon\\\\MDS_licitalab\\\\Modeling\\\\20231007200103_query_results.csv',\n",
       " 'N_ROWS': 500000,\n",
       " 'ELBOW_MIN': 20,\n",
       " 'ELBOW_MAX': 100,\n",
       " 'ELBOW_N': 50,\n",
       " 'ITEMS_TO_CONSIDER': 15,\n",
       " 'USE_AWARDED': False,\n",
       " 'CLUSTERIZATION_TYPE': 'kmeans'}"
      ]
     },
     "execution_count": 69,
     "metadata": {},
     "output_type": "execute_result"
    }
   ],
   "source": [
    "yaml_data"
   ]
  },
  {
   "cell_type": "code",
   "execution_count": 70,
   "metadata": {},
   "outputs": [
    {
     "data": {
      "text/html": [
       "<div>\n",
       "<style scoped>\n",
       "    .dataframe tbody tr th:only-of-type {\n",
       "        vertical-align: middle;\n",
       "    }\n",
       "\n",
       "    .dataframe tbody tr th {\n",
       "        vertical-align: top;\n",
       "    }\n",
       "\n",
       "    .dataframe thead th {\n",
       "        text-align: right;\n",
       "    }\n",
       "</style>\n",
       "<table border=\"1\" class=\"dataframe\">\n",
       "  <thead>\n",
       "    <tr style=\"text-align: right;\">\n",
       "      <th></th>\n",
       "      <th>taxnumberprovider</th>\n",
       "      <th>agilebuyingsdescription</th>\n",
       "      <th>agileitemsproductcategory</th>\n",
       "      <th>adjudicada</th>\n",
       "    </tr>\n",
       "  </thead>\n",
       "  <tbody>\n",
       "  </tbody>\n",
       "</table>\n",
       "</div>"
      ],
      "text/plain": [
       "Empty DataFrame\n",
       "Columns: [taxnumberprovider, agilebuyingsdescription, agileitemsproductcategory, adjudicada]\n",
       "Index: []"
      ]
     },
     "metadata": {},
     "output_type": "display_data"
    }
   ],
   "source": [
    "exploration_query = gg.query(f\"Cluster == {cluster_number} and taxnumberprovider == '{user}'\") \n",
    "\n",
    "save = exploration_query.groupby(by = 'first_two_digits_code').count()['agileitemsproductcategory'].reset_index()\n",
    "    \n",
    "fig = px.bar(save, x='first_two_digits_code', y='agileitemsproductcategory', title='Categorías Presentes')\n",
    "data = exploration_query.groupby(by=['agilebuyingsdescription','agileitemsproductcategory','adjudicada','taxnumberprovider']).count().reset_index()\n",
    "data = data[['taxnumberprovider','agilebuyingsdescription','agileitemsproductcategory','adjudicada']]\n",
    "display(data)\n",
    " "
   ]
  },
  {
   "cell_type": "code",
   "execution_count": 71,
   "metadata": {},
   "outputs": [
    {
     "data": {
      "text/html": [
       "<div>\n",
       "<style scoped>\n",
       "    .dataframe tbody tr th:only-of-type {\n",
       "        vertical-align: middle;\n",
       "    }\n",
       "\n",
       "    .dataframe tbody tr th {\n",
       "        vertical-align: top;\n",
       "    }\n",
       "\n",
       "    .dataframe thead th {\n",
       "        text-align: right;\n",
       "    }\n",
       "</style>\n",
       "<table border=\"1\" class=\"dataframe\">\n",
       "  <thead>\n",
       "    <tr style=\"text-align: right;\">\n",
       "      <th></th>\n",
       "      <th></th>\n",
       "      <th></th>\n",
       "      <th>agilebuyingsdescription</th>\n",
       "      <th>Count</th>\n",
       "    </tr>\n",
       "    <tr>\n",
       "      <th>taxnumberprovider</th>\n",
       "      <th>agilebuyingsdescription</th>\n",
       "      <th>adjudicada</th>\n",
       "      <th></th>\n",
       "      <th></th>\n",
       "    </tr>\n",
       "  </thead>\n",
       "  <tbody>\n",
       "    <tr>\n",
       "      <th>10.011.441-0</th>\n",
       "      <th>SE REQUIERE MATERIALES ELECTRICOS PARA LICEO DE HUEPIL, SE ADJUDICARA AL PROVEEDOR DE MENOR VALOR , MENOR TIEMPO DE ENTREGA QUE NO DEBE PASAR DE 2 DÍAS, ENVIE COTIZACIÓN FORMAL Y POSTULE LISTADO COMPLETO.</th>\n",
       "      <th>False</th>\n",
       "      <td>1</td>\n",
       "      <td>1</td>\n",
       "    </tr>\n",
       "    <tr>\n",
       "      <th>10.016.503-1</th>\n",
       "      <th>Adquisición de carne que serán empleados en el casino de Suboficiales del Destacamento. Los oferentes deben adjuntar la respectiva cotización en formato PDF no modificable, considerando  los impuestos correspondientes y el costo de envío a la ciudad de Porvenir en la Región de Magallanes y la Antártica Chilena. Cabe mencionar que se adjudicará al proveedor que oferte la totalidad de lo solicitado.</th>\n",
       "      <th>True</th>\n",
       "      <td>1</td>\n",
       "      <td>1</td>\n",
       "    </tr>\n",
       "    <tr>\n",
       "      <th>10.018.801-5</th>\n",
       "      <th>Se solicita cotizar según detalles de los productos. \\nAdjuntar cotización formal que indique tiempos de entrega y características.\\n\\nAlimentos se requieren para 09 de marzo.</th>\n",
       "      <th>False</th>\n",
       "      <td>1</td>\n",
       "      <td>1</td>\n",
       "    </tr>\n",
       "    <tr>\n",
       "      <th rowspan=\"2\" valign=\"top\">10.025.673-8</th>\n",
       "      <th>Adquisición de televisor SMART TV para reposición de equipo dañado en Residencia Familiar Quilpué. Se solicita acompañar a la oferta imagen del producto ofertado e indicar el tiempo de despacho. En caso contrario, se evaluará la oferta con puntaje mínimo.</th>\n",
       "      <th>False</th>\n",
       "      <td>1</td>\n",
       "      <td>1</td>\n",
       "    </tr>\n",
       "    <tr>\n",
       "      <th>SE SOLICITA ADJUNTAR  FICHA CON LAS ESPECIFICACIONES TÉCNICAS DE LOS PRODUCTOS A OFERTAR CON SUS CARACTERÍSTICAS MARCA, FORMATO, INDICAR VALOR UNITARIO CON DESPACHO INCLUIDO Y PLAZO DE ENTREGA, COTIZAR LA TOTALIDAD DE LO SOLICITADO. TODOS LOS REQUERIMIENTOS SON DE CARÁCTER OBLIGATORIO.\\nSE ADJUNTA FICHA TÉCNICA</th>\n",
       "      <th>False</th>\n",
       "      <td>1</td>\n",
       "      <td>1</td>\n",
       "    </tr>\n",
       "    <tr>\n",
       "      <th>...</th>\n",
       "      <th>...</th>\n",
       "      <th>...</th>\n",
       "      <td>...</td>\n",
       "      <td>...</td>\n",
       "    </tr>\n",
       "    <tr>\n",
       "      <th rowspan=\"5\" valign=\"top\">99.593.170-2</th>\n",
       "      <th>Se necesita adquirir 2.200 unidades de cánulas intravenosas con sistema de seguridad pasiva, Es un catéter periférico de seguridad que evita totalmente el riesgo de pinchazos accidentales. Incorpora un sistema automático de protección. Un escudo cubre de forma pasiva el bisel de la aguja metálica al retirarla después de la colocación del catéter. Se activa automáticamente, no se puede omitir y no requiere activación por parte del usuario. Adjuntar FICHA TECNICA, con correo y telefono de contacto</th>\n",
       "      <th>False</th>\n",
       "      <td>1</td>\n",
       "      <td>1</td>\n",
       "    </tr>\n",
       "    <tr>\n",
       "      <th>Se requiere adquirir insumo ALARGADOR VENOSO DE 30 CM  con conexiones Luer Lock Macho/Hembra</th>\n",
       "      <th>False</th>\n",
       "      <td>1</td>\n",
       "      <td>1</td>\n",
       "    </tr>\n",
       "    <tr>\n",
       "      <th>TET ANILLADO CON ESPIRAL 5,5 MM DESECHABLE (FAVOR ADJUNTAR FICHA TÉCNICA)</th>\n",
       "      <th>False</th>\n",
       "      <td>1</td>\n",
       "      <td>1</td>\n",
       "    </tr>\n",
       "    <tr>\n",
       "      <th>adjuntar cotización indicando tiempos de entrega</th>\n",
       "      <th>False</th>\n",
       "      <td>1</td>\n",
       "      <td>1</td>\n",
       "    </tr>\n",
       "    <tr>\n",
       "      <th>vencimiento igual o superior a 12 meses(si aplica)/Ideal adjuntar ficha técnica o catálogo del producto/incluir el despacho al HMN/Se considerará por sobre otra  aquella cotización que contenga la mayor cantidad de productos ofertados que cumplan con los requerimientos técnicos solicitados/Las cantidades podrán aumentar máximo en un 50% para ajustar al factor de venta o mínimo de facturación del oferente, siempre y cuando la adquisición no exceda el monto total disponible</th>\n",
       "      <th>False</th>\n",
       "      <td>1</td>\n",
       "      <td>1</td>\n",
       "    </tr>\n",
       "  </tbody>\n",
       "</table>\n",
       "<p>14486 rows × 2 columns</p>\n",
       "</div>"
      ],
      "text/plain": [
       "                                                                                 agilebuyingsdescription  \\\n",
       "taxnumberprovider agilebuyingsdescription                            adjudicada                            \n",
       "10.011.441-0      SE REQUIERE MATERIALES ELECTRICOS PARA LICEO DE... False                             1   \n",
       "10.016.503-1      Adquisición de carne que serán empleados en el ... True                              1   \n",
       "10.018.801-5      Se solicita cotizar según detalles de los produ... False                             1   \n",
       "10.025.673-8      Adquisición de televisor SMART TV para reposici... False                             1   \n",
       "                  SE SOLICITA ADJUNTAR  FICHA CON LAS ESPECIFICAC... False                             1   \n",
       "...                                                                                                  ...   \n",
       "99.593.170-2      Se necesita adquirir 2.200 unidades de cánulas ... False                             1   \n",
       "                  Se requiere adquirir insumo ALARGADOR VENOSO DE... False                             1   \n",
       "                  TET ANILLADO CON ESPIRAL 5,5 MM DESECHABLE (FAV... False                             1   \n",
       "                  adjuntar cotización indicando tiempos de entrega   False                             1   \n",
       "                  vencimiento igual o superior a 12 meses(si apli... False                             1   \n",
       "\n",
       "                                                                                 Count  \n",
       "taxnumberprovider agilebuyingsdescription                            adjudicada         \n",
       "10.011.441-0      SE REQUIERE MATERIALES ELECTRICOS PARA LICEO DE... False           1  \n",
       "10.016.503-1      Adquisición de carne que serán empleados en el ... True            1  \n",
       "10.018.801-5      Se solicita cotizar según detalles de los produ... False           1  \n",
       "10.025.673-8      Adquisición de televisor SMART TV para reposici... False           1  \n",
       "                  SE SOLICITA ADJUNTAR  FICHA CON LAS ESPECIFICAC... False           1  \n",
       "...                                                                                ...  \n",
       "99.593.170-2      Se necesita adquirir 2.200 unidades de cánulas ... False           1  \n",
       "                  Se requiere adquirir insumo ALARGADOR VENOSO DE... False           1  \n",
       "                  TET ANILLADO CON ESPIRAL 5,5 MM DESECHABLE (FAV... False           1  \n",
       "                  adjuntar cotización indicando tiempos de entrega   False           1  \n",
       "                  vencimiento igual o superior a 12 meses(si apli... False           1  \n",
       "\n",
       "[14486 rows x 2 columns]"
      ]
     },
     "metadata": {},
     "output_type": "display_data"
    }
   ],
   "source": [
    "\n",
    "grouped = gg.groupby(by =['taxnumberprovider','agilebuyingsdescription','adjudicada']).agg({'agilebuyingsdescription':'nunique'})\n",
    "grouped = grouped.assign(Count=gg.groupby(by=['taxnumberprovider','agilebuyingsdescription']).agg({'adjudicada':'count'}))\n",
    " \n",
    "display(grouped) "
   ]
  }
 ],
 "metadata": {
  "kernelspec": {
   "display_name": "venv",
   "language": "python",
   "name": "python3"
  },
  "language_info": {
   "codemirror_mode": {
    "name": "ipython",
    "version": 3
   },
   "file_extension": ".py",
   "mimetype": "text/x-python",
   "name": "python",
   "nbconvert_exporter": "python",
   "pygments_lexer": "ipython3",
   "version": "3.11.5"
  }
 },
 "nbformat": 4,
 "nbformat_minor": 2
}
