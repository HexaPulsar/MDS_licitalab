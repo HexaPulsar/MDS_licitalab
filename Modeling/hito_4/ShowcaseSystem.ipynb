{
 "cells": [
  {
   "cell_type": "markdown",
   "metadata": {},
   "source": [
    "# Sistema de recomendaciones LicitaLAB\n",
    "#### Basado en las descripciones de los usuarios y las categorías en que ofrecen."
   ]
  },
  {
   "cell_type": "markdown",
   "metadata": {},
   "source": [
    "Si es primera vez que se lanza este PyNotebook, se generarán un grupo de archivos, necesarios para llevar a cabo las recomendaciones. "
   ]
  },
  {
   "cell_type": "markdown",
   "metadata": {},
   "source": [
    "### Imports y configuraciones"
   ]
  },
  {
   "cell_type": "code",
   "execution_count": 6,
   "metadata": {},
   "outputs": [],
   "source": [
    "import os\n",
    "from utils.RecommenderSystem import RecommenderSystem  \n",
    "import pandas as pd\n",
    "from unidecode import unidecode \n",
    "from tqdm import tqdm"
   ]
  },
  {
   "cell_type": "markdown",
   "metadata": {},
   "source": [
    "Agregar la ubicación donde se encuentra el .csv con el que se genera el espacio de usuarios."
   ]
  },
  {
   "cell_type": "code",
   "execution_count": 10,
   "metadata": {},
   "outputs": [],
   "source": [
    "CSV_PATH = 'C:\\\\Users\\\\magda\\\\OneDrive\\\\Escritorio\\\\MDS_licitalab\\\\query_final_results_20231026023937.csv'"
   ]
  },
  {
   "cell_type": "markdown",
   "metadata": {},
   "source": [
    "Carga el Dataset."
   ]
  },
  {
   "cell_type": "code",
   "execution_count": 11,
   "metadata": {},
   "outputs": [
    {
     "name": "stdout",
     "output_type": "stream",
     "text": [
      "Counting length of csv file\n",
      "34761793 rows will be loaded to create the recommendation system\n"
     ]
    },
    {
     "name": "stderr",
     "output_type": "stream",
     "text": [
      "Loading Dataset:  44%|████▍     | 15301056/34761793 [03:15<04:08, 78196.05it/s]\n"
     ]
    }
   ],
   "source": [
    "print(\"Counting length of csv file\")\n",
    "with open(CSV_PATH, 'r', encoding='utf-8') as file:\n",
    "    total_lines = sum(1 for _ in file)\n",
    "print(f\"{total_lines} rows will be loaded to create the recommendation system\")\n",
    "# Create an empty list to store the DataFrames from chunks\n",
    "dfs = [] \n",
    "# Create a tqdm wrapper for pd.read_csv\n",
    "with tqdm(total=total_lines, desc = 'Loading Dataset') as pbar:\n",
    "    def update_progress(n):\n",
    "        pbar.update(n)\n",
    "    \n",
    "    # Read the CSV file using pd.read_csv and provide the progress callback\n",
    "    df_chunks = pd.read_csv(CSV_PATH, chunksize=100000, iterator=True, encoding='utf-8', nrows=total_lines)  # Specify the encoding\n",
    "    for chunk in df_chunks:\n",
    "        # Process each chunk if needed\n",
    "        # You can access the chunk data in the 'chunk' DataFrame\n",
    "        #chunk['first_two_digits_code'] = chunk['agilebuyingscode'].apply(lambda x: x[:2])\n",
    "        chunk['feature_vector'] = chunk['agilebuyingscode'].apply(lambda x: x[:2]) + ' ' + chunk['agileoffereditemsdescripcionofertada']\n",
    "        chunk['feature_vector'] = chunk['feature_vector'].apply(lambda x: unidecode(str(x)).lower())\n",
    "        \n",
    "        dfs.append(chunk)\n",
    "        update_progress(chunk.shape[0])\n",
    "df = pd.concat(dfs, ignore_index=True)"
   ]
  },
  {
   "cell_type": "markdown",
   "metadata": {},
   "source": [
    "Lanzar el recomendador. Si no encuentra los archivos necesarios iniciará un proceso de generación de estos. Se demora bastante, pero no deberían haber problemas."
   ]
  },
  {
   "cell_type": "code",
   "execution_count": 13,
   "metadata": {},
   "outputs": [
    {
     "name": "stdout",
     "output_type": "stream",
     "text": [
      "Initializing Recommender System\n",
      "The current directory is c:\\Users\\magda\\OneDrive\\Escritorio\\MDS_licitalab\\Modeling\\hito_4\n",
      "c:\\Users\\magda\\OneDrive\\Escritorio\\MDS_licitalab\\Modeling\\hito_4\n",
      "['count_vectorizer_model.pkl', 'dev_uservectorgen.ipynb', 'ExperimentalDash.py', 'kmeans_clusters.csv', 'kmeans_model.pkl', 'LaunchRS.py', 'ShowcaseSystem.ipynb', 'utils', 'vectorized_corpus.csv']\n",
      "All necesary files have been found.\n"
     ]
    }
   ],
   "source": [
    "RS = RecommenderSystem(df,save_path=  os.getcwd())"
   ]
  },
  {
   "cell_type": "markdown",
   "metadata": {},
   "source": [
    "### Predecir recomendaciones"
   ]
  },
  {
   "cell_type": "markdown",
   "metadata": {},
   "source": [
    "Se le entrega el string del rut al sistema recomendador a traves de la función `predict()`. El sistema retorna el número de cluster al que el usuario ha sido asignado y un dataframe con las compras ágiles recomendadas. "
   ]
  },
  {
   "cell_type": "code",
   "execution_count": 14,
   "metadata": {},
   "outputs": [
    {
     "name": "stdout",
     "output_type": "stream",
     "text": [
      "Unseen data point belongs to cluster 0\n"
     ]
    }
   ],
   "source": [
    "n_cluster,gg = RS.predict('77.187.331-6') \n"
   ]
  },
  {
   "cell_type": "markdown",
   "metadata": {},
   "source": [
    "Agregando un poco de post-procesamiento se pueden encontrar visualizaciones de interés."
   ]
  },
  {
   "cell_type": "code",
   "execution_count": 16,
   "metadata": {},
   "outputs": [
    {
     "data": {
      "text/html": [
       "<div>\n",
       "<style scoped>\n",
       "    .dataframe tbody tr th:only-of-type {\n",
       "        vertical-align: middle;\n",
       "    }\n",
       "\n",
       "    .dataframe tbody tr th {\n",
       "        vertical-align: top;\n",
       "    }\n",
       "\n",
       "    .dataframe thead th {\n",
       "        text-align: right;\n",
       "    }\n",
       "</style>\n",
       "<table border=\"1\" class=\"dataframe\">\n",
       "  <thead>\n",
       "    <tr style=\"text-align: right;\">\n",
       "      <th></th>\n",
       "      <th>agilebuyingsavailableamount</th>\n",
       "      <th>agileitemsmp_id</th>\n",
       "      <th>agileoffereditemspreciototal</th>\n",
       "      <th>Cluster</th>\n",
       "    </tr>\n",
       "  </thead>\n",
       "  <tbody>\n",
       "    <tr>\n",
       "      <th>count</th>\n",
       "      <td>1.530106e+07</td>\n",
       "      <td>1.530106e+07</td>\n",
       "      <td>1.530106e+07</td>\n",
       "      <td>679552.0</td>\n",
       "    </tr>\n",
       "    <tr>\n",
       "      <th>mean</th>\n",
       "      <td>9.890671e+05</td>\n",
       "      <td>4.649132e+07</td>\n",
       "      <td>2.357438e+05</td>\n",
       "      <td>0.0</td>\n",
       "    </tr>\n",
       "    <tr>\n",
       "      <th>std</th>\n",
       "      <td>6.195381e+05</td>\n",
       "      <td>4.077776e+06</td>\n",
       "      <td>3.391537e+05</td>\n",
       "      <td>0.0</td>\n",
       "    </tr>\n",
       "    <tr>\n",
       "      <th>min</th>\n",
       "      <td>1.000000e+00</td>\n",
       "      <td>4.212150e+07</td>\n",
       "      <td>0.000000e+00</td>\n",
       "      <td>0.0</td>\n",
       "    </tr>\n",
       "    <tr>\n",
       "      <th>25%</th>\n",
       "      <td>4.290000e+05</td>\n",
       "      <td>4.321151e+07</td>\n",
       "      <td>2.400000e+04</td>\n",
       "      <td>0.0</td>\n",
       "    </tr>\n",
       "    <tr>\n",
       "      <th>50%</th>\n",
       "      <td>9.000000e+05</td>\n",
       "      <td>4.412210e+07</td>\n",
       "      <td>8.880700e+04</td>\n",
       "      <td>0.0</td>\n",
       "    </tr>\n",
       "    <tr>\n",
       "      <th>75%</th>\n",
       "      <td>1.685220e+06</td>\n",
       "      <td>5.013170e+07</td>\n",
       "      <td>2.900000e+05</td>\n",
       "      <td>0.0</td>\n",
       "    </tr>\n",
       "    <tr>\n",
       "      <th>max</th>\n",
       "      <td>1.873500e+06</td>\n",
       "      <td>5.612200e+07</td>\n",
       "      <td>1.800000e+06</td>\n",
       "      <td>0.0</td>\n",
       "    </tr>\n",
       "  </tbody>\n",
       "</table>\n",
       "</div>"
      ],
      "text/plain": [
       "       agilebuyingsavailableamount  agileitemsmp_id  \\\n",
       "count                 1.530106e+07     1.530106e+07   \n",
       "mean                  9.890671e+05     4.649132e+07   \n",
       "std                   6.195381e+05     4.077776e+06   \n",
       "min                   1.000000e+00     4.212150e+07   \n",
       "25%                   4.290000e+05     4.321151e+07   \n",
       "50%                   9.000000e+05     4.412210e+07   \n",
       "75%                   1.685220e+06     5.013170e+07   \n",
       "max                   1.873500e+06     5.612200e+07   \n",
       "\n",
       "       agileoffereditemspreciototal   Cluster  \n",
       "count                  1.530106e+07  679552.0  \n",
       "mean                   2.357438e+05       0.0  \n",
       "std                    3.391537e+05       0.0  \n",
       "min                    0.000000e+00       0.0  \n",
       "25%                    2.400000e+04       0.0  \n",
       "50%                    8.880700e+04       0.0  \n",
       "75%                    2.900000e+05       0.0  \n",
       "max                    1.800000e+06       0.0  "
      ]
     },
     "execution_count": 16,
     "metadata": {},
     "output_type": "execute_result"
    }
   ],
   "source": [
    "gg.describe()"
   ]
  },
  {
   "cell_type": "markdown",
   "metadata": {},
   "source": []
  }
 ],
 "metadata": {
  "kernelspec": {
   "display_name": "venv",
   "language": "python",
   "name": "python3"
  },
  "language_info": {
   "codemirror_mode": {
    "name": "ipython",
    "version": 3
   },
   "file_extension": ".py",
   "mimetype": "text/x-python",
   "name": "python",
   "nbconvert_exporter": "python",
   "pygments_lexer": "ipython3",
   "version": "3.10.5"
  }
 },
 "nbformat": 4,
 "nbformat_minor": 2
}
