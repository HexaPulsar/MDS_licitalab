{
 "cells": [
  {
   "cell_type": "code",
   "execution_count": null,
   "metadata": {},
   "outputs": [],
   "source": [
    "import pandas as pd\n",
    "import numpy as np\n",
    "import matplotlib.pyplot as plt\n",
    "import os\n",
    "import statsmodels.api as sm\n",
    "from statsmodels.othermod.betareg import BetaModel,\n",
    "\n",
    "from sklearn.model_selection import train_test_split \n",
    "from sklearn.metrics import classification_report, confusion_matrix, accuracy_score "
   ]
  },
  {
   "cell_type": "code",
   "execution_count": null,
   "metadata": {},
   "outputs": [],
   "source": [
    "marzo = pd.read_csv('marzo.csv')\n",
    "abril = pd.read_csv('abril.csv')\n",
    "mayo = pd.read_csv('mayo.csv')\n",
    "#df = pd.concat([marzo,abril,mayo], axis = 0)\n",
    "df = marzo"
   ]
  },
  {
   "cell_type": "code",
   "execution_count": null,
   "metadata": {},
   "outputs": [],
   "source": [
    "df['numeric'] = df['adjudicada'].apply(lambda x: 1 if x == True else 0)\n",
    "df['numeric'].plot.density(title='Densidad de adjudicaciones en el dataset' )"
   ]
  },
  {
   "cell_type": "code",
   "execution_count": null,
   "metadata": {},
   "outputs": [],
   "source": [
    "gb = df[['taxnumberprovider','adjudicada', 'numeric']].groupby(by=['taxnumberprovider','adjudicada']).count()\n",
    "gb = gb.unstack().fillna(0)\n",
    "\n",
    "\n",
    "gb['total'] = gb[('numeric', False)] +  gb[('numeric', True)]\n",
    "gb['adj_rate'] =( gb[('numeric', True)]/gb['total']).round(2)\n",
    "gb = gb[gb['total'] >= 10]\n",
    "display(gb)\n",
    "\n",
    "gb['adj_rate'].plot.density(title= 'Distribución de rate de adjudicación. n> 10 participaciones')"
   ]
  },
  {
   "cell_type": "code",
   "execution_count": null,
   "metadata": {},
   "outputs": [],
   "source": [
    "ax = gb['adj_rate'].hist(bins = 100)\n",
    "plt.title('Distribución probabilidad de adjudicaciones por usuario, todos los rubros.')"
   ]
  },
  {
   "cell_type": "code",
   "execution_count": null,
   "metadata": {},
   "outputs": [],
   "source": [
    "gb = gb.reset_index()\n",
    "gb_merge= gb[['taxnumberprovider','total','adj_rate']]"
   ]
  },
  {
   "cell_type": "code",
   "execution_count": null,
   "metadata": {},
   "outputs": [],
   "source": [
    "merge = pd.merge(df,gb_merge, on = 'taxnumberprovider', how = 'left')\n",
    "#print(merge.columns)\n",
    "merge = merge.rename(columns={('total', ''):'total',\n",
    "                             ('adj_rate', ''):'adj_rate'})\n",
    "display(merge.head())"
   ]
  },
  {
   "cell_type": "code",
   "execution_count": null,
   "metadata": {},
   "outputs": [],
   "source": [
    "# Load modules and data\n",
    "In [1]: import numpy as np\n",
    "\n",
    "In [2]: import statsmodels.api as sm\n",
    "\n",
    "In [3]: spector_data = sm.datasets.spector.load()\n",
    "\n",
    "In [4]: spector_data.exog = sm.add_constant(spector_data.exog, prepend=False)\n",
    "\n",
    "# Fit and summarize OLS model\n",
    "In [5]: mod = sm.OLS(spector_data.endog, spector_data.exog)\n",
    "\n",
    "In [6]: res = mod.fit()\n",
    "\n",
    "In [7]: print(res.summary())"
   ]
  }
 ],
 "metadata": {
  "language_info": {
   "name": "python"
  }
 },
 "nbformat": 4,
 "nbformat_minor": 2
}
